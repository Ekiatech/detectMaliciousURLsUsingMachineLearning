{
 "cells": [
  {
   "attachments": {},
   "cell_type": "markdown",
   "metadata": {},
   "source": [
    "# Projet - Detection d'URLs malicieuses à l'aide du machine learning (PySpark)\n",
    "\n",
    "Auteurs : Quentin PAUWELS & Samuel ISRAEL"
   ]
  },
  {
   "cell_type": "code",
   "execution_count": 1,
   "metadata": {},
   "outputs": [],
   "source": [
    "# Importations\n",
    "import numpy as np\n",
    "import pandas as pd\n",
    "import matplotlib.pyplot as plt\n",
    "import re\n",
    "\n",
    "from pyspark import SparkConf\n",
    "from pyspark.sql import SparkSession, functions\n",
    "\n",
    "from pyspark.sql.types import ArrayType, StringType\n",
    "\n",
    "from pyspark.ml.feature import VectorAssembler\n",
    "from pyspark.ml.feature import CountVectorizer\n",
    "from pyspark.ml import Pipeline\n",
    "from pyspark.ml.evaluation import MulticlassClassificationEvaluator\n",
    "from pyspark.ml.evaluation import BinaryClassificationEvaluator\n",
    "\n",
    "# Importations des modèles\n",
    "from pyspark.ml.classification import LogisticRegression\n",
    "from pyspark.ml.classification import NaiveBayes \n",
    "from pyspark.ml.classification import RandomForestClassifier"
   ]
  },
  {
   "cell_type": "code",
   "execution_count": 2,
   "metadata": {},
   "outputs": [
    {
     "name": "stdout",
     "output_type": "stream",
     "text": [
      "22/12/13 08:40:58 WARN Utils: Your hostname, quentin resolves to a loopback address: 127.0.1.1; using 192.168.2.132 instead (on interface wlp0s20f3)\n",
      "22/12/13 08:40:58 WARN Utils: Set SPARK_LOCAL_IP if you need to bind to another address\n"
     ]
    },
    {
     "name": "stderr",
     "output_type": "stream",
     "text": [
      "Setting default log level to \"WARN\".\n",
      "To adjust logging level use sc.setLogLevel(newLevel). For SparkR, use setLogLevel(newLevel).\n"
     ]
    },
    {
     "name": "stdout",
     "output_type": "stream",
     "text": [
      "22/12/13 08:40:59 WARN NativeCodeLoader: Unable to load native-hadoop library for your platform... using builtin-java classes where applicable\n"
     ]
    }
   ],
   "source": [
    "# Initialisation SparkSession\n",
    "\n",
    "conf = SparkConf()\n",
    "#conf.set(\"spark.broadcast.blockSize\", 4096)\n",
    "conf.set(\"spark.cores.max\", \"8\")\n",
    "conf.set(\"spark.driver.memory\",\"8g\")\n",
    "\n",
    "# Créer un objet SparkSession\n",
    "spark = SparkSession.builder.config(conf=conf).appName(\"MyApp\").getOrCreate()"
   ]
  },
  {
   "attachments": {},
   "cell_type": "markdown",
   "metadata": {},
   "source": [
    "## Chargement du dataset"
   ]
  },
  {
   "cell_type": "code",
   "execution_count": 3,
   "metadata": {},
   "outputs": [
    {
     "name": "stderr",
     "output_type": "stream",
     "text": [
      "                                                                                \r"
     ]
    }
   ],
   "source": [
    "# Chargement des donnees\n",
    "\n",
    "# Charger les données à partir d'un fichier CSV\n",
    "data = spark.read.csv(\"urldata.csv\", header=True, inferSchema=True)\n",
    "\n",
    "data = data.select([\"URLs\", \"Class\"])\n",
    "\n",
    "# Remplace le terme 'benign' par 0, le reste par 1\n",
    "data = data.withColumn(\"Class\", functions.when(data[\"Class\"] == \"benign\", 0)\n",
    "                                         .otherwise(1))"
   ]
  },
  {
   "cell_type": "markdown",
   "metadata": {},
   "source": [
    "### Ajout de critères au dataset"
   ]
  },
  {
   "cell_type": "code",
   "execution_count": 4,
   "metadata": {},
   "outputs": [
    {
     "name": "stdout",
     "output_type": "stream",
     "text": [
      "+-------------------------+-----+----------+---------+------------+------------+------+------+------+------+------+------+----------+-----------+---------+\n",
      "|URLs                     |Class|url_length|count-dir|count-digits|count-points|count-|count_|count@|count?|count%|count=|count-http|count-https|count-www|\n",
      "+-------------------------+-----+----------+---------+------------+------------+------+------+------+------+------+------+----------+-----------+---------+\n",
      "|https://www.google.com   |0    |22        |0        |0           |2           |0     |0     |0     |0     |0     |0     |1         |1          |1        |\n",
      "|https://www.youtube.com  |0    |23        |0        |0           |2           |0     |0     |0     |0     |0     |0     |1         |1          |1        |\n",
      "|https://www.facebook.com |0    |24        |0        |0           |2           |0     |0     |0     |0     |0     |0     |1         |1          |1        |\n",
      "|https://www.baidu.com    |0    |21        |0        |0           |2           |0     |0     |0     |0     |0     |0     |1         |1          |1        |\n",
      "|https://www.wikipedia.org|0    |25        |0        |0           |2           |0     |0     |0     |0     |0     |0     |1         |1          |1        |\n",
      "|https://www.reddit.com   |0    |22        |0        |0           |2           |0     |0     |0     |0     |0     |0     |1         |1          |1        |\n",
      "|https://www.yahoo.com    |0    |21        |0        |0           |2           |0     |0     |0     |0     |0     |0     |1         |1          |1        |\n",
      "|https://www.google.co.in |0    |24        |0        |0           |3           |0     |0     |0     |0     |0     |0     |1         |1          |1        |\n",
      "|https://www.qq.com       |0    |18        |0        |0           |2           |0     |0     |0     |0     |0     |0     |1         |1          |1        |\n",
      "|https://www.amazon.com   |0    |22        |0        |0           |2           |0     |0     |0     |0     |0     |0     |1         |1          |1        |\n",
      "|https://www.taobao.com   |0    |22        |0        |0           |2           |0     |0     |0     |0     |0     |0     |1         |1          |1        |\n",
      "|https://www.twitter.com  |0    |23        |0        |0           |2           |0     |0     |0     |0     |0     |0     |1         |1          |1        |\n",
      "|https://www.tmall.com    |0    |21        |0        |0           |2           |0     |0     |0     |0     |0     |0     |1         |1          |1        |\n",
      "|https://www.google.co.jp |0    |24        |0        |0           |3           |0     |0     |0     |0     |0     |0     |1         |1          |1        |\n",
      "|https://www.vk.com       |0    |18        |0        |0           |2           |0     |0     |0     |0     |0     |0     |1         |1          |1        |\n",
      "|https://www.live.com     |0    |20        |0        |0           |2           |0     |0     |0     |0     |0     |0     |1         |1          |1        |\n",
      "|https://www.instagram.com|0    |25        |0        |0           |2           |0     |0     |0     |0     |0     |0     |1         |1          |1        |\n",
      "|https://www.sohu.com     |0    |20        |0        |0           |2           |0     |0     |0     |0     |0     |0     |1         |1          |1        |\n",
      "|https://www.sina.com.cn  |0    |23        |0        |0           |3           |0     |0     |0     |0     |0     |0     |1         |1          |1        |\n",
      "|https://www.jd.com       |0    |18        |0        |0           |2           |0     |0     |0     |0     |0     |0     |1         |1          |1        |\n",
      "+-------------------------+-----+----------+---------+------------+------------+------+------+------+------+------+------+----------+-----------+---------+\n",
      "only showing top 20 rows\n",
      "\n"
     ]
    }
   ],
   "source": [
    "from pyspark.sql import functions as F\n",
    "\n",
    "data = data.withColumn(\"url_length\", F.length(\"URLs\"))\n",
    "data = data.withColumn(\"count-dir\", F.size(F.split(F.col(\"URLs\"), r\"/\")) - 3)\n",
    "data = data.withColumn(\"count-digits\", F.size(F.split(F.col(\"URLs\"), r\"\\d\")) - 1)\n",
    "data = data.withColumn(\"count-points\", F.size(F.split(F.col(\"URLs\"), r\"\\.\")) - 1)\n",
    "data = data.withColumn(\"count-\", F.size(F.split(F.col(\"URLs\"), r\"\\-\")) - 1)\n",
    "data = data.withColumn(\"count_\", F.size(F.split(F.col(\"URLs\"), r\"\\_\")) - 1)\n",
    "data = data.withColumn(\"count@\", F.size(F.split(F.col(\"URLs\"), r\"\\@\")) - 1)\n",
    "data = data.withColumn(\"count?\", F.size(F.split(F.col(\"URLs\"), r\"\\?\")) - 1)\n",
    "data = data.withColumn(\"count%\", F.size(F.split(F.col(\"URLs\"), r\"\\%\")) - 1)\n",
    "data = data.withColumn(\"count=\", F.size(F.split(F.col(\"URLs\"), r\"\\=\")) - 1)\n",
    "data = data.withColumn(\"count-http\", F.size(F.split(F.col(\"URLs\"), r\"http\")) - 1)\n",
    "data = data.withColumn(\"count-https\", F.size(F.split(F.col(\"URLs\"), r\"https\")) - 1)\n",
    "data = data.withColumn(\"count-www\", F.size(F.split(F.col(\"URLs\"), r\"www\")) - 1)\n",
    "\n",
    "data.show(truncate=False)"
   ]
  },
  {
   "attachments": {},
   "cell_type": "markdown",
   "metadata": {},
   "source": [
    "#### Mise en place de fonctions pratiques pour la suite"
   ]
  },
  {
   "cell_type": "code",
   "execution_count": 5,
   "metadata": {},
   "outputs": [],
   "source": [
    "def trainModel(pipeline, train_data):\n",
    "    # Entraîner le modèle sur les données d'entrée\n",
    "    model = pipeline.fit(train_data)\n",
    "    return model\n",
    "\n",
    "def results(model, test_data):\n",
    "    # Utiliser le modèle entraîné pour prédire des étiquettes de sortie pour les données de test\n",
    "    predictions = model.transform(test_data)\n",
    "\n",
    "    # Définir les paramètres d'évaluation du modèle\n",
    "    evaluator = MulticlassClassificationEvaluator(labelCol=\"Class\", predictionCol=\"prediction\")\n",
    "\n",
    "    # Évaluer le modèle en utilisant les données d'entrée et les étiquettes de sortie prédites\n",
    "    accuracy = evaluator.evaluate(predictions, {evaluator.metricName: \"accuracy\"})\n",
    "    f1 = evaluator.evaluate(predictions, {evaluator.metricName: \"f1\"})\n",
    "\n",
    "    print(\"RECALL :\", evaluator.evaluate(predictions, {evaluator.metricName: \"weightedRecall\"}))\n",
    "\n",
    "    return (accuracy, f1, predictions)\n",
    "\n",
    "def printResults(accuracy, f1, predictions):\n",
    "    # Afficher l'accuracy du modèle\n",
    "    print(\"Accuracy : \", accuracy)\n",
    "    print(\"Score F1 : \", f1)\n",
    "\n",
    "    # Afficher la matrice de confusion\n",
    "    predictions.groupBy(\"Class\", \"prediction\").count().show()\n",
    "\n",
    "    #predictions.select(\"Class\", \"prediction\").show()"
   ]
  },
  {
   "attachments": {},
   "cell_type": "markdown",
   "metadata": {},
   "source": [
    "#### Division du dataset en un dataset d'entrainement et un de test"
   ]
  },
  {
   "cell_type": "code",
   "execution_count": 6,
   "metadata": {},
   "outputs": [
    {
     "name": "stdout",
     "output_type": "stream",
     "text": [
      "Il y a  9  partitions utilisées\n"
     ]
    }
   ],
   "source": [
    "# Diviser les données en deux ensembles aléatoires\n",
    "train_data, test_data = data.randomSplit([0.8, 0.2])\n",
    "train_data_token, test_data_token = data.randomSplit([0.8, 0.2])\n",
    "\n",
    "# Afficher le nombre de partitions utilisées pour distribuer les données\n",
    "num_partitions = train_data.rdd.getNumPartitions()\n",
    "print(\"Il y a \", num_partitions, \" partitions utilisées\")"
   ]
  },
  {
   "attachments": {},
   "cell_type": "markdown",
   "metadata": {},
   "source": [
    "## Sans l'utilisation de tokenizer"
   ]
  },
  {
   "cell_type": "code",
   "execution_count": 7,
   "metadata": {},
   "outputs": [],
   "source": [
    "input_cols = ['count-digits',\n",
    "                'count-dir',\n",
    "                'count-points',\n",
    "                'count-',\n",
    "                'count_',\n",
    "                'count@',\n",
    "                'count?',\n",
    "                'count%',\n",
    "                'count=',\n",
    "                'count-http',\n",
    "                'count-https',\n",
    "                'count-www',\n",
    "                'url_length'\n",
    "                ]\n",
    "\n",
    "# Sélectionner les colonnes input_cols comme entrées pour le modèle\n",
    "assembler = VectorAssembler(inputCols=input_cols, outputCol=\"features\")"
   ]
  },
  {
   "attachments": {},
   "cell_type": "markdown",
   "metadata": {},
   "source": [
    "### Modele : NaiveBayes"
   ]
  },
  {
   "cell_type": "code",
   "execution_count": 8,
   "metadata": {},
   "outputs": [
    {
     "name": "stdout",
     "output_type": "stream",
     "text": [
      "22/12/13 08:41:12 WARN package: Truncated the string representation of a plan since it was too large. This behavior can be adjusted by setting 'spark.sql.debug.maxToStringFields'.\n"
     ]
    },
    {
     "name": "stderr",
     "output_type": "stream",
     "text": [
      "[Stage 6:>                                                          (0 + 9) / 9]\r"
     ]
    },
    {
     "name": "stdout",
     "output_type": "stream",
     "text": [
      "22/12/13 08:41:19 WARN InstanceBuilder$NativeBLAS: Failed to load implementation from:dev.ludovic.netlib.blas.JNIBLAS\n",
      "22/12/13 08:41:19 WARN InstanceBuilder$NativeBLAS: Failed to load implementation from:dev.ludovic.netlib.blas.ForeignLinkerBLAS\n"
     ]
    },
    {
     "name": "stderr",
     "output_type": "stream",
     "text": [
      "                                                                                \r"
     ]
    },
    {
     "name": "stdout",
     "output_type": "stream",
     "text": [
      "RECALL : 0.8149081622411313\n",
      "Accuracy :  0.8149081622411313\n",
      "Score F1 :  0.7932093131527804\n"
     ]
    },
    {
     "name": "stderr",
     "output_type": "stream",
     "text": [
      "[Stage 12:=============================================>            (7 + 2) / 9]\r"
     ]
    },
    {
     "name": "stdout",
     "output_type": "stream",
     "text": [
      "+-----+----------+-----+\n",
      "|Class|prediction|count|\n",
      "+-----+----------+-----+\n",
      "|    0|       0.0|65465|\n",
      "|    0|       1.0| 3544|\n",
      "|    1|       0.0|13053|\n",
      "|    1|       1.0| 7607|\n",
      "+-----+----------+-----+\n",
      "\n"
     ]
    },
    {
     "name": "stderr",
     "output_type": "stream",
     "text": [
      "                                                                                \r"
     ]
    }
   ],
   "source": [
    "# Créer un objet NaiveBayes\n",
    "mnb = NaiveBayes(labelCol=\"Class\", featuresCol=\"features\")\n",
    "\n",
    "# Combiner les étapes d'assemblage des vecteurs et de NaiveBayes en un seul pipeline\n",
    "pipeline = Pipeline(stages=[assembler, mnb])\n",
    "\n",
    "try:\n",
    "    model = trainModel(pipeline, train_data)\n",
    "    accuracy_mnb, f1_mnb, predictions = results(model, test_data)\n",
    "    printResults(accuracy_mnb, f1_mnb, predictions)\n",
    "except:\n",
    "    accuracy_mnb, f1_mnb = 0, 0"
   ]
  },
  {
   "attachments": {},
   "cell_type": "markdown",
   "metadata": {},
   "source": [
    "### Modele : Regression Logistique"
   ]
  },
  {
   "cell_type": "code",
   "execution_count": 9,
   "metadata": {},
   "outputs": [
    {
     "name": "stderr",
     "output_type": "stream",
     "text": [
      "                                                                                \r"
     ]
    },
    {
     "name": "stdout",
     "output_type": "stream",
     "text": [
      "RECALL : 0.962785355027936\n",
      "Accuracy :  0.962785355027936\n",
      "Score F1 :  0.9615906830547243\n"
     ]
    },
    {
     "name": "stderr",
     "output_type": "stream",
     "text": [
      "[Stage 47:======>                                                   (1 + 8) / 9]\r"
     ]
    },
    {
     "name": "stdout",
     "output_type": "stream",
     "text": [
      "+-----+----------+-----+\n",
      "|Class|prediction|count|\n",
      "+-----+----------+-----+\n",
      "|    0|       0.0|69008|\n",
      "|    0|       1.0|    1|\n",
      "|    1|       0.0| 3336|\n",
      "|    1|       1.0|17324|\n",
      "+-----+----------+-----+\n",
      "\n"
     ]
    },
    {
     "name": "stderr",
     "output_type": "stream",
     "text": [
      "                                                                                \r"
     ]
    }
   ],
   "source": [
    "# Créer un objet LogisticRegression\n",
    "lr = LogisticRegression(labelCol=\"Class\", featuresCol=\"features\", maxIter=150, regParam=0.1)\n",
    "\n",
    "# Combiner les étapes d'assemblage des vecteurs et de régression logistique en un seul pipeline\n",
    "pipeline = Pipeline(stages=[assembler, lr])\n",
    "\n",
    "model = trainModel(pipeline, train_data)\n",
    "accuracy_lr, f1_lr, predictions = results(model, test_data)\n",
    "printResults(accuracy_lr, f1_lr, predictions)"
   ]
  },
  {
   "attachments": {},
   "cell_type": "markdown",
   "metadata": {},
   "source": [
    "### Modele : RandomForest"
   ]
  },
  {
   "cell_type": "code",
   "execution_count": 10,
   "metadata": {},
   "outputs": [
    {
     "name": "stderr",
     "output_type": "stream",
     "text": [
      "                                                                                \r"
     ]
    },
    {
     "name": "stdout",
     "output_type": "stream",
     "text": [
      "RECALL : 0.9968662525510489\n",
      "Accuracy :  0.9968662525510489\n",
      "Score F1 :  0.9968653214524574\n"
     ]
    },
    {
     "name": "stderr",
     "output_type": "stream",
     "text": [
      "[Stage 73:============>                                             (2 + 7) / 9]\r"
     ]
    },
    {
     "name": "stdout",
     "output_type": "stream",
     "text": [
      "+-----+----------+-----+\n",
      "|Class|prediction|count|\n",
      "+-----+----------+-----+\n",
      "|    0|       0.0|68886|\n",
      "|    0|       1.0|  123|\n",
      "|    1|       0.0|  158|\n",
      "|    1|       1.0|20502|\n",
      "+-----+----------+-----+\n",
      "\n"
     ]
    },
    {
     "name": "stderr",
     "output_type": "stream",
     "text": [
      "                                                                                \r"
     ]
    }
   ],
   "source": [
    "# Créer un objet RandomForestClassifier\n",
    "rfc = RandomForestClassifier(labelCol=\"Class\", featuresCol=\"features\")\n",
    "\n",
    "# Combiner les étapes d'assemblage des vecteurs et de randomForest en un seul pipeline\n",
    "pipeline = Pipeline(stages=[assembler, rfc])\n",
    "\n",
    "model = trainModel(pipeline, train_data)\n",
    "accuracy_rfc, f1_rfc, predictions = results(model, test_data)\n",
    "printResults(accuracy_rfc, f1_rfc, predictions)"
   ]
  },
  {
   "attachments": {},
   "cell_type": "markdown",
   "metadata": {},
   "source": [
    "## Avec l'utilisation d'un tokenizer"
   ]
  },
  {
   "attachments": {},
   "cell_type": "markdown",
   "metadata": {},
   "source": [
    "### Définition et application du tokenizer"
   ]
  },
  {
   "cell_type": "code",
   "execution_count": 11,
   "metadata": {},
   "outputs": [
    {
     "name": "stderr",
     "output_type": "stream",
     "text": [
      "[Stage 76:>                                                         (0 + 1) / 1]\r"
     ]
    },
    {
     "name": "stdout",
     "output_type": "stream",
     "text": [
      "+--------------------------+-----+-------------------------------------------+\n",
      "|URLs                      |Class|tokens                                     |\n",
      "+--------------------------+-----+-------------------------------------------+\n",
      "|https://www.0123movies.com|0    |[https:, www.0123movies.com, 0123movies]   |\n",
      "|https://www.01net.com     |0    |[https:, www.01net.com, 01net]             |\n",
      "|https://www.1111.com.tw   |0    |[https:, www.1111.com.tw, 1111, tw]        |\n",
      "|https://www.114la.com     |0    |[https:, www.114la.com, 114la]             |\n",
      "|https://www.11st.co.kr    |0    |[https:, www.11st.co.kr, 11st, co, kr]     |\n",
      "|https://www.123rf.com     |0    |[https:, www.123rf.com, 123rf]             |\n",
      "|https://www.126.com       |0    |[https:, www.126.com, 126]                 |\n",
      "|https://www.163.com       |0    |[https:, www.163.com, 163]                 |\n",
      "|https://www.1688.com      |0    |[https:, www.1688.com, 1688]               |\n",
      "|https://www.17ok.com      |0    |[https:, www.17ok.com, 17ok]               |\n",
      "|https://www.17track.net   |0    |[https:, www.17track.net, 17track, net]    |\n",
      "|https://www.1and1.com     |0    |[https:, www.1and1.com, 1and1]             |\n",
      "|https://www.1fichier.com  |0    |[https:, www.1fichier.com, 1fichier]       |\n",
      "|https://www.1tv.ru        |0    |[https:, www.1tv.ru, 1tv, ru]              |\n",
      "|https://www.20minutos.es  |0    |[https:, www.20minutos.es, 20minutos, es]  |\n",
      "|https://www.247sports.com |0    |[https:, www.247sports.com, 247sports]     |\n",
      "|https://www.24h.com.vn    |0    |[https:, www.24h.com.vn, 24h, vn]          |\n",
      "|https://www.24smi.info    |0    |[https:, www.24smi.info, 24smi, info]      |\n",
      "|https://www.24video.adult |0    |[https:, www.24video.adult, 24video, adult]|\n",
      "|https://www.2conv.com     |0    |[https:, www.2conv.com, 2conv]             |\n",
      "+--------------------------+-----+-------------------------------------------+\n",
      "only showing top 20 rows\n",
      "\n"
     ]
    },
    {
     "name": "stderr",
     "output_type": "stream",
     "text": [
      "                                                                                \r"
     ]
    }
   ],
   "source": [
    "# Definition du tokenizer\n",
    "def my_tokenizer(url): \n",
    "  # Split by slash (/) and dash (-)\n",
    "  tokens = re.split('[/-]', url)\n",
    "  for i in tokens:   \n",
    "    # Include the splits extensions and subdomains\n",
    "    if i.find(\".\") >= 0:\n",
    "      dot_split = i.split('.')\n",
    "      # Remove .com and www. since they're too common\n",
    "      if \"com\" in dot_split:\n",
    "        dot_split.remove(\"com\")\n",
    "      if \"www\" in dot_split:\n",
    "        dot_split.remove(\"www\")\n",
    "      \n",
    "      tokens += dot_split\n",
    "    \n",
    "    try: \n",
    "      while(tokens.index('')):\n",
    "        tokens.remove('')\n",
    "    except:\n",
    "        pass\n",
    "  return tokens\n",
    "\n",
    "udf = functions.UserDefinedFunction(my_tokenizer, returnType=ArrayType(StringType()))\n",
    "\n",
    "# Application de la fonction my_tokenizer à la colonne URLs \n",
    "output_column_train = udf(train_data[\"URLs\"])\n",
    "output_column_test = udf(test_data[\"URLs\"])\n",
    "\n",
    "train_data = train_data.withColumn(\"tokens\", output_column_train)\n",
    "test_data = train_data.withColumn(\"tokens\", output_column_test)\n",
    "\n",
    "train_data = train_data.select(\"URLs\", \"Class\", \"tokens\")\n",
    "test_data = test_data.select(\"URLs\", \"Class\", \"tokens\")\n",
    "\n",
    "train_data.show(truncate=False)"
   ]
  },
  {
   "attachments": {},
   "cell_type": "markdown",
   "metadata": {},
   "source": [
    "### Creation de l'object CountVectorizer"
   ]
  },
  {
   "cell_type": "code",
   "execution_count": 12,
   "metadata": {},
   "outputs": [],
   "source": [
    "# Créer un objet CountVectorizer\n",
    "counter = CountVectorizer(inputCol=\"tokens\", outputCol=\"features\")"
   ]
  },
  {
   "attachments": {},
   "cell_type": "markdown",
   "metadata": {},
   "source": [
    "### Modele : NaiveBayes"
   ]
  },
  {
   "cell_type": "code",
   "execution_count": 13,
   "metadata": {},
   "outputs": [
    {
     "name": "stderr",
     "output_type": "stream",
     "text": [
      "                                                                                \r"
     ]
    },
    {
     "name": "stdout",
     "output_type": "stream",
     "text": [
      "22/12/13 08:42:13 WARN DAGScheduler: Broadcasting large task binary with size 4.6 MiB\n"
     ]
    },
    {
     "name": "stderr",
     "output_type": "stream",
     "text": [
      "[Stage 81:=============================================>            (7 + 2) / 9]\r"
     ]
    },
    {
     "name": "stdout",
     "output_type": "stream",
     "text": [
      "22/12/13 08:42:19 WARN DAGScheduler: Broadcasting large task binary with size 4.6 MiB\n"
     ]
    },
    {
     "name": "stderr",
     "output_type": "stream",
     "text": [
      "                                                                                \r"
     ]
    },
    {
     "name": "stdout",
     "output_type": "stream",
     "text": [
      "22/12/13 08:42:20 WARN DAGScheduler: Broadcasting large task binary with size 8.6 MiB\n"
     ]
    },
    {
     "name": "stderr",
     "output_type": "stream",
     "text": [
      "                                                                                \r"
     ]
    },
    {
     "name": "stdout",
     "output_type": "stream",
     "text": [
      "22/12/13 08:42:24 WARN DAGScheduler: Broadcasting large task binary with size 8.6 MiB\n"
     ]
    },
    {
     "name": "stderr",
     "output_type": "stream",
     "text": [
      "                                                                                \r"
     ]
    },
    {
     "name": "stdout",
     "output_type": "stream",
     "text": [
      "22/12/13 08:42:28 WARN DAGScheduler: Broadcasting large task binary with size 8.6 MiB\n"
     ]
    },
    {
     "name": "stderr",
     "output_type": "stream",
     "text": [
      "                                                                                \r"
     ]
    },
    {
     "name": "stdout",
     "output_type": "stream",
     "text": [
      "RECALL : 0.9967989525862189\n",
      "Accuracy :  0.9967989525862189\n",
      "Score F1 :  0.9967962247972366\n",
      "22/12/13 08:42:33 WARN DAGScheduler: Broadcasting large task binary with size 8.6 MiB\n"
     ]
    },
    {
     "name": "stderr",
     "output_type": "stream",
     "text": [
      "[Stage 90:===================================================>      (8 + 1) / 9]\r"
     ]
    },
    {
     "name": "stdout",
     "output_type": "stream",
     "text": [
      "22/12/13 08:42:37 WARN DAGScheduler: Broadcasting large task binary with size 8.6 MiB\n",
      "+-----+----------+------+\n",
      "|Class|prediction| count|\n",
      "+-----+----------+------+\n",
      "|    0|       0.0|276356|\n",
      "|    0|       1.0|   373|\n",
      "|    1|       0.0|   781|\n",
      "|    1|       1.0| 82997|\n",
      "+-----+----------+------+\n",
      "\n"
     ]
    },
    {
     "name": "stderr",
     "output_type": "stream",
     "text": [
      "                                                                                \r"
     ]
    }
   ],
   "source": [
    "# Créer un objet NaiveBayes\n",
    "mnb = NaiveBayes(labelCol=\"Class\", featuresCol=\"features\")\n",
    "\n",
    "# Combiner les étapes de CountVectorizer et de NaiveBayes en un seul pipeline\n",
    "pipeline = Pipeline(stages=[counter, mnb])\n",
    "\n",
    "model = trainModel(pipeline, train_data)\n",
    "accuracy_mnb_token, f1_mnb_token, predictions = results(model, test_data)\n",
    "printResults(accuracy_mnb_token, f1_mnb_token, predictions)"
   ]
  },
  {
   "attachments": {},
   "cell_type": "markdown",
   "metadata": {},
   "source": [
    "### Modele : Regression Logistique"
   ]
  },
  {
   "cell_type": "code",
   "execution_count": 14,
   "metadata": {},
   "outputs": [
    {
     "name": "stderr",
     "output_type": "stream",
     "text": [
      "                                                                                \r"
     ]
    },
    {
     "name": "stdout",
     "output_type": "stream",
     "text": [
      "22/12/13 08:42:47 WARN DAGScheduler: Broadcasting large task binary with size 4.6 MiB\n"
     ]
    },
    {
     "name": "stderr",
     "output_type": "stream",
     "text": [
      "[Stage 97:===================================================>      (8 + 1) / 9]\r"
     ]
    },
    {
     "name": "stdout",
     "output_type": "stream",
     "text": [
      "22/12/13 08:42:50 WARN DAGScheduler: Broadcasting large task binary with size 4.6 MiB\n"
     ]
    },
    {
     "name": "stderr",
     "output_type": "stream",
     "text": [
      "                                                                                \r"
     ]
    },
    {
     "name": "stdout",
     "output_type": "stream",
     "text": [
      "22/12/13 08:42:51 WARN DAGScheduler: Broadcasting large task binary with size 4.6 MiB\n"
     ]
    },
    {
     "name": "stderr",
     "output_type": "stream",
     "text": [
      "[Stage 99:===================================================>      (8 + 1) / 9]\r"
     ]
    },
    {
     "name": "stdout",
     "output_type": "stream",
     "text": [
      "22/12/13 08:42:55 WARN DAGScheduler: Broadcasting large task binary with size 4.6 MiB\n"
     ]
    },
    {
     "name": "stderr",
     "output_type": "stream",
     "text": [
      "                                                                                \r"
     ]
    },
    {
     "name": "stdout",
     "output_type": "stream",
     "text": [
      "22/12/13 08:42:56 WARN BLAS: Failed to load implementation from: com.github.fommil.netlib.NativeSystemBLAS\n",
      "22/12/13 08:42:56 WARN BLAS: Failed to load implementation from: com.github.fommil.netlib.NativeRefBLAS\n",
      "22/12/13 08:42:56 WARN DAGScheduler: Broadcasting large task binary with size 4.6 MiB\n",
      "22/12/13 08:42:57 WARN DAGScheduler: Broadcasting large task binary with size 4.6 MiB\n",
      "22/12/13 08:42:57 WARN DAGScheduler: Broadcasting large task binary with size 4.6 MiB\n",
      "22/12/13 08:42:58 WARN DAGScheduler: Broadcasting large task binary with size 4.6 MiB\n",
      "22/12/13 08:42:59 WARN DAGScheduler: Broadcasting large task binary with size 4.6 MiB\n",
      "22/12/13 08:42:59 WARN DAGScheduler: Broadcasting large task binary with size 4.6 MiB\n",
      "22/12/13 08:43:00 WARN DAGScheduler: Broadcasting large task binary with size 4.6 MiB\n"
     ]
    },
    {
     "name": "stderr",
     "output_type": "stream",
     "text": [
      "[Stage 107:>                                                        (0 + 9) / 9]\r"
     ]
    },
    {
     "name": "stdout",
     "output_type": "stream",
     "text": [
      "22/12/13 08:43:00 WARN DAGScheduler: Broadcasting large task binary with size 4.6 MiB\n"
     ]
    },
    {
     "name": "stderr",
     "output_type": "stream",
     "text": [
      "                                                                                \r"
     ]
    },
    {
     "name": "stdout",
     "output_type": "stream",
     "text": [
      "22/12/13 08:43:01 WARN DAGScheduler: Broadcasting large task binary with size 4.6 MiB\n",
      "22/12/13 08:43:02 WARN DAGScheduler: Broadcasting large task binary with size 4.6 MiB\n",
      "22/12/13 08:43:03 WARN DAGScheduler: Broadcasting large task binary with size 4.6 MiB\n"
     ]
    },
    {
     "name": "stderr",
     "output_type": "stream",
     "text": [
      "[Stage 111:>                                                        (0 + 9) / 9]\r"
     ]
    },
    {
     "name": "stdout",
     "output_type": "stream",
     "text": [
      "22/12/13 08:43:03 WARN DAGScheduler: Broadcasting large task binary with size 4.6 MiB\n"
     ]
    },
    {
     "name": "stderr",
     "output_type": "stream",
     "text": [
      "                                                                                \r"
     ]
    },
    {
     "name": "stdout",
     "output_type": "stream",
     "text": [
      "22/12/13 08:43:04 WARN DAGScheduler: Broadcasting large task binary with size 4.6 MiB\n"
     ]
    },
    {
     "name": "stderr",
     "output_type": "stream",
     "text": [
      "[Stage 113:===============================>                         (5 + 4) / 9]\r"
     ]
    },
    {
     "name": "stdout",
     "output_type": "stream",
     "text": [
      "22/12/13 08:43:05 WARN DAGScheduler: Broadcasting large task binary with size 4.6 MiB\n"
     ]
    },
    {
     "name": "stderr",
     "output_type": "stream",
     "text": [
      "                                                                                \r"
     ]
    },
    {
     "name": "stdout",
     "output_type": "stream",
     "text": [
      "22/12/13 08:43:05 WARN DAGScheduler: Broadcasting large task binary with size 4.6 MiB\n",
      "22/12/13 08:43:06 WARN DAGScheduler: Broadcasting large task binary with size 4.6 MiB\n",
      "22/12/13 08:43:07 WARN DAGScheduler: Broadcasting large task binary with size 4.6 MiB\n",
      "22/12/13 08:43:07 WARN DAGScheduler: Broadcasting large task binary with size 4.6 MiB\n",
      "22/12/13 08:43:08 WARN DAGScheduler: Broadcasting large task binary with size 4.6 MiB\n",
      "22/12/13 08:43:09 WARN DAGScheduler: Broadcasting large task binary with size 4.6 MiB\n",
      "22/12/13 08:43:09 WARN DAGScheduler: Broadcasting large task binary with size 4.6 MiB\n",
      "22/12/13 08:43:10 WARN DAGScheduler: Broadcasting large task binary with size 4.6 MiB\n",
      "22/12/13 08:43:11 WARN DAGScheduler: Broadcasting large task binary with size 4.6 MiB\n"
     ]
    },
    {
     "name": "stderr",
     "output_type": "stream",
     "text": [
      "[Stage 123:>                                                        (0 + 9) / 9]\r"
     ]
    },
    {
     "name": "stdout",
     "output_type": "stream",
     "text": [
      "22/12/13 08:43:12 WARN DAGScheduler: Broadcasting large task binary with size 4.6 MiB\n"
     ]
    },
    {
     "name": "stderr",
     "output_type": "stream",
     "text": [
      "                                                                                \r"
     ]
    },
    {
     "name": "stdout",
     "output_type": "stream",
     "text": [
      "22/12/13 08:43:12 WARN DAGScheduler: Broadcasting large task binary with size 4.6 MiB\n"
     ]
    },
    {
     "name": "stderr",
     "output_type": "stream",
     "text": [
      "[Stage 125:======================================>                  (6 + 3) / 9]\r"
     ]
    },
    {
     "name": "stdout",
     "output_type": "stream",
     "text": [
      "22/12/13 08:43:13 WARN DAGScheduler: Broadcasting large task binary with size 4.6 MiB\n"
     ]
    },
    {
     "name": "stderr",
     "output_type": "stream",
     "text": [
      "                                                                                \r"
     ]
    },
    {
     "name": "stdout",
     "output_type": "stream",
     "text": [
      "22/12/13 08:43:14 WARN DAGScheduler: Broadcasting large task binary with size 4.6 MiB\n"
     ]
    },
    {
     "name": "stderr",
     "output_type": "stream",
     "text": [
      "[Stage 127:=========================>                               (4 + 5) / 9]\r"
     ]
    },
    {
     "name": "stdout",
     "output_type": "stream",
     "text": [
      "22/12/13 08:43:14 WARN DAGScheduler: Broadcasting large task binary with size 4.6 MiB\n"
     ]
    },
    {
     "name": "stderr",
     "output_type": "stream",
     "text": [
      "                                                                                \r"
     ]
    },
    {
     "name": "stdout",
     "output_type": "stream",
     "text": [
      "22/12/13 08:43:15 WARN DAGScheduler: Broadcasting large task binary with size 4.6 MiB\n"
     ]
    },
    {
     "name": "stderr",
     "output_type": "stream",
     "text": [
      "[Stage 129:>                                                        (0 + 9) / 9]\r"
     ]
    },
    {
     "name": "stdout",
     "output_type": "stream",
     "text": [
      "22/12/13 08:43:16 WARN DAGScheduler: Broadcasting large task binary with size 4.6 MiB\n"
     ]
    },
    {
     "name": "stderr",
     "output_type": "stream",
     "text": [
      "                                                                                \r"
     ]
    },
    {
     "name": "stdout",
     "output_type": "stream",
     "text": [
      "22/12/13 08:43:17 WARN DAGScheduler: Broadcasting large task binary with size 4.6 MiB\n"
     ]
    },
    {
     "name": "stderr",
     "output_type": "stream",
     "text": [
      "[Stage 131:>                                                        (0 + 9) / 9]\r"
     ]
    },
    {
     "name": "stdout",
     "output_type": "stream",
     "text": [
      "22/12/13 08:43:17 WARN DAGScheduler: Broadcasting large task binary with size 4.6 MiB\n"
     ]
    },
    {
     "name": "stderr",
     "output_type": "stream",
     "text": [
      "                                                                                \r"
     ]
    },
    {
     "name": "stdout",
     "output_type": "stream",
     "text": [
      "22/12/13 08:43:18 WARN DAGScheduler: Broadcasting large task binary with size 4.6 MiB\n",
      "22/12/13 08:43:19 WARN DAGScheduler: Broadcasting large task binary with size 4.6 MiB\n",
      "22/12/13 08:43:19 WARN DAGScheduler: Broadcasting large task binary with size 4.6 MiB\n",
      "22/12/13 08:43:20 WARN DAGScheduler: Broadcasting large task binary with size 4.6 MiB\n",
      "22/12/13 08:43:21 WARN DAGScheduler: Broadcasting large task binary with size 4.6 MiB\n",
      "22/12/13 08:43:21 WARN DAGScheduler: Broadcasting large task binary with size 4.6 MiB\n",
      "22/12/13 08:43:22 WARN DAGScheduler: Broadcasting large task binary with size 4.6 MiB\n",
      "22/12/13 08:43:23 WARN DAGScheduler: Broadcasting large task binary with size 4.6 MiB\n",
      "22/12/13 08:43:23 WARN DAGScheduler: Broadcasting large task binary with size 4.6 MiB\n",
      "22/12/13 08:43:24 WARN DAGScheduler: Broadcasting large task binary with size 4.6 MiB\n",
      "22/12/13 08:43:25 WARN DAGScheduler: Broadcasting large task binary with size 4.6 MiB\n"
     ]
    },
    {
     "name": "stderr",
     "output_type": "stream",
     "text": [
      "[Stage 143:============================================>            (7 + 2) / 9]\r"
     ]
    },
    {
     "name": "stdout",
     "output_type": "stream",
     "text": [
      "22/12/13 08:43:25 WARN DAGScheduler: Broadcasting large task binary with size 4.6 MiB\n"
     ]
    },
    {
     "name": "stderr",
     "output_type": "stream",
     "text": [
      "                                                                                \r"
     ]
    },
    {
     "name": "stdout",
     "output_type": "stream",
     "text": [
      "22/12/13 08:43:26 WARN DAGScheduler: Broadcasting large task binary with size 4.6 MiB\n"
     ]
    },
    {
     "name": "stderr",
     "output_type": "stream",
     "text": [
      "[Stage 145:============================================>            (7 + 2) / 9]\r"
     ]
    },
    {
     "name": "stdout",
     "output_type": "stream",
     "text": [
      "22/12/13 08:43:27 WARN DAGScheduler: Broadcasting large task binary with size 4.6 MiB\n"
     ]
    },
    {
     "name": "stderr",
     "output_type": "stream",
     "text": [
      "                                                                                \r"
     ]
    },
    {
     "name": "stdout",
     "output_type": "stream",
     "text": [
      "22/12/13 08:43:27 WARN DAGScheduler: Broadcasting large task binary with size 4.6 MiB\n"
     ]
    },
    {
     "name": "stderr",
     "output_type": "stream",
     "text": [
      "[Stage 147:======================================>                  (6 + 3) / 9]\r"
     ]
    },
    {
     "name": "stdout",
     "output_type": "stream",
     "text": [
      "22/12/13 08:43:28 WARN DAGScheduler: Broadcasting large task binary with size 4.6 MiB\n"
     ]
    },
    {
     "name": "stderr",
     "output_type": "stream",
     "text": [
      "                                                                                \r"
     ]
    },
    {
     "name": "stdout",
     "output_type": "stream",
     "text": [
      "22/12/13 08:43:29 WARN DAGScheduler: Broadcasting large task binary with size 4.6 MiB\n",
      "22/12/13 08:43:29 WARN DAGScheduler: Broadcasting large task binary with size 4.6 MiB\n",
      "22/12/13 08:43:30 WARN DAGScheduler: Broadcasting large task binary with size 4.6 MiB\n",
      "22/12/13 08:43:31 WARN DAGScheduler: Broadcasting large task binary with size 4.6 MiB\n",
      "22/12/13 08:43:33 WARN DAGScheduler: Broadcasting large task binary with size 6.6 MiB\n"
     ]
    },
    {
     "name": "stderr",
     "output_type": "stream",
     "text": [
      "                                                                                \r"
     ]
    },
    {
     "name": "stdout",
     "output_type": "stream",
     "text": [
      "22/12/13 08:43:38 WARN DAGScheduler: Broadcasting large task binary with size 6.6 MiB\n"
     ]
    },
    {
     "name": "stderr",
     "output_type": "stream",
     "text": [
      "                                                                                \r"
     ]
    },
    {
     "name": "stdout",
     "output_type": "stream",
     "text": [
      "22/12/13 08:43:42 WARN DAGScheduler: Broadcasting large task binary with size 6.6 MiB\n"
     ]
    },
    {
     "name": "stderr",
     "output_type": "stream",
     "text": [
      "                                                                                \r"
     ]
    },
    {
     "name": "stdout",
     "output_type": "stream",
     "text": [
      "RECALL : 0.9938586490692274\n",
      "Accuracy :  0.9938586490692275\n",
      "Score F1 :  0.9938297927368\n",
      "22/12/13 08:43:46 WARN DAGScheduler: Broadcasting large task binary with size 6.6 MiB\n"
     ]
    },
    {
     "name": "stderr",
     "output_type": "stream",
     "text": [
      "[Stage 159:======================================>                  (6 + 3) / 9]\r"
     ]
    },
    {
     "name": "stdout",
     "output_type": "stream",
     "text": [
      "22/12/13 08:43:51 WARN DAGScheduler: Broadcasting large task binary with size 6.6 MiB\n",
      "+-----+----------+------+\n",
      "|Class|prediction| count|\n",
      "+-----+----------+------+\n",
      "|    0|       0.0|276728|\n",
      "|    0|       1.0|     1|\n",
      "|    1|       0.0|  2213|\n",
      "|    1|       1.0| 81565|\n",
      "+-----+----------+------+\n",
      "\n"
     ]
    },
    {
     "name": "stderr",
     "output_type": "stream",
     "text": [
      "                                                                                \r"
     ]
    }
   ],
   "source": [
    "# Créer un objet LogisticRegression\n",
    "lr = LogisticRegression(labelCol=\"Class\", featuresCol=\"features\", maxIter=150, regParam=0.1)\n",
    "\n",
    "# Combiner les étapes de CountVectorizer et de régression logistique en un seul pipeline\n",
    "pipeline = Pipeline(stages=[counter, lr])\n",
    "\n",
    "model = trainModel(pipeline, train_data)\n",
    "accuracy_lr_token, f1_lr_token, predictions = results(model, test_data)\n",
    "printResults(accuracy_lr_token, f1_lr_token, predictions)"
   ]
  },
  {
   "attachments": {},
   "cell_type": "markdown",
   "metadata": {},
   "source": [
    "### Modele : RandomForest"
   ]
  },
  {
   "cell_type": "code",
   "execution_count": 15,
   "metadata": {},
   "outputs": [
    {
     "name": "stderr",
     "output_type": "stream",
     "text": [
      "                                                                                \r"
     ]
    },
    {
     "name": "stdout",
     "output_type": "stream",
     "text": [
      "22/12/13 08:44:02 WARN DAGScheduler: Broadcasting large task binary with size 4.6 MiB\n"
     ]
    },
    {
     "name": "stderr",
     "output_type": "stream",
     "text": [
      "                                                                                \r"
     ]
    },
    {
     "name": "stdout",
     "output_type": "stream",
     "text": [
      "22/12/13 08:44:03 WARN DAGScheduler: Broadcasting large task binary with size 4.6 MiB\n"
     ]
    },
    {
     "name": "stderr",
     "output_type": "stream",
     "text": [
      "                                                                                \r"
     ]
    },
    {
     "name": "stdout",
     "output_type": "stream",
     "text": [
      "22/12/13 08:44:07 WARN DAGScheduler: Broadcasting large task binary with size 7.2 MiB\n"
     ]
    },
    {
     "name": "stderr",
     "output_type": "stream",
     "text": [
      "[Stage 171:==================================================>      (8 + 1) / 9]\r"
     ]
    },
    {
     "name": "stdout",
     "output_type": "stream",
     "text": [
      "22/12/13 08:44:48 WARN DAGScheduler: Broadcasting large task binary with size 1033.7 KiB\n"
     ]
    },
    {
     "name": "stderr",
     "output_type": "stream",
     "text": [
      "                                                                                \r"
     ]
    },
    {
     "name": "stdout",
     "output_type": "stream",
     "text": [
      "22/12/13 08:44:49 WARN DAGScheduler: Broadcasting large task binary with size 8.2 MiB\n"
     ]
    },
    {
     "name": "stderr",
     "output_type": "stream",
     "text": [
      "[Stage 173:>                                                        (0 + 9) / 9]\r"
     ]
    },
    {
     "name": "stdout",
     "output_type": "stream",
     "text": [
      "22/12/13 08:45:03 WARN BlockManager: Block rdd_630_4 could not be removed as it was not found on disk or in memory\n",
      "22/12/13 08:45:03 WARN BlockManager: Block rdd_630_0 could not be removed as it was not found on disk or in memory\n",
      "22/12/13 08:45:03 ERROR Executor: Exception in task 4.0 in stage 173.0 (TID 1096)\n",
      "java.lang.OutOfMemoryError: Java heap space: failed reallocation of scalar replaced objects\n",
      "22/12/13 08:45:03 ERROR Executor: Exception in task 0.0 in stage 173.0 (TID 1092)\n",
      "java.lang.OutOfMemoryError: Java heap space\n",
      "22/12/13 08:45:03 ERROR SparkUncaughtExceptionHandler: Uncaught exception in thread Thread[Executor task launch worker for task 4.0 in stage 173.0 (TID 1096),5,main]\n",
      "java.lang.OutOfMemoryError: Java heap space: failed reallocation of scalar replaced objects\n",
      "22/12/13 08:45:03 ERROR SparkUncaughtExceptionHandler: Uncaught exception in thread Thread[Executor task launch worker for task 0.0 in stage 173.0 (TID 1092),5,main]\n",
      "java.lang.OutOfMemoryError: Java heap space\n",
      "22/12/13 08:45:03 WARN TaskSetManager: Lost task 4.0 in stage 173.0 (TID 1096) (192.168.2.132 executor driver): java.lang.OutOfMemoryError: Java heap space: failed reallocation of scalar replaced objects\n",
      "\n",
      "22/12/13 08:45:03 ERROR TaskSetManager: Task 4 in stage 173.0 failed 1 times; aborting job\n",
      "22/12/13 08:45:03 WARN TaskSetManager: Lost task 0.0 in stage 173.0 (TID 1092) (192.168.2.132 executor driver): java.lang.OutOfMemoryError: Java heap space\n",
      "\n",
      "22/12/13 08:45:03 ERROR Instrumentation: org.apache.spark.SparkException: Job aborted due to stage failure: Task 4 in stage 173.0 failed 1 times, most recent failure: Lost task 4.0 in stage 173.0 (TID 1096) (192.168.2.132 executor driver): java.lang.OutOfMemoryError: Java heap space: failed reallocation of scalar replaced objects\n",
      "\n",
      "Driver stacktrace:\n",
      "\tat org.apache.spark.scheduler.DAGScheduler.failJobAndIndependentStages(DAGScheduler.scala:2672)\n",
      "\tat org.apache.spark.scheduler.DAGScheduler.$anonfun$abortStage$2(DAGScheduler.scala:2608)\n",
      "\tat org.apache.spark.scheduler.DAGScheduler.$anonfun$abortStage$2$adapted(DAGScheduler.scala:2607)\n",
      "\tat scala.collection.mutable.ResizableArray.foreach(ResizableArray.scala:62)\n",
      "\tat scala.collection.mutable.ResizableArray.foreach$(ResizableArray.scala:55)\n",
      "\tat scala.collection.mutable.ArrayBuffer.foreach(ArrayBuffer.scala:49)\n",
      "\tat org.apache.spark.scheduler.DAGScheduler.abortStage(DAGScheduler.scala:2607)\n",
      "\tat org.apache.spark.scheduler.DAGScheduler.$anonfun$handleTaskSetFailed$1(DAGScheduler.scala:1182)\n",
      "\tat org.apache.spark.scheduler.DAGScheduler.$anonfun$handleTaskSetFailed$1$adapted(DAGScheduler.scala:1182)\n",
      "\tat scala.Option.foreach(Option.scala:407)\n",
      "\tat org.apache.spark.scheduler.DAGScheduler.handleTaskSetFailed(DAGScheduler.scala:1182)\n",
      "\tat org.apache.spark.scheduler.DAGSchedulerEventProcessLoop.doOnReceive(DAGScheduler.scala:2860)\n",
      "\tat org.apache.spark.scheduler.DAGSchedulerEventProcessLoop.onReceive(DAGScheduler.scala:2802)\n",
      "\tat org.apache.spark.scheduler.DAGSchedulerEventProcessLoop.onReceive(DAGScheduler.scala:2791)\n",
      "\tat org.apache.spark.util.EventLoop$$anon$1.run(EventLoop.scala:49)\n",
      "\tat org.apache.spark.scheduler.DAGScheduler.runJob(DAGScheduler.scala:952)\n",
      "\tat org.apache.spark.SparkContext.runJob(SparkContext.scala:2228)\n",
      "\tat org.apache.spark.SparkContext.runJob(SparkContext.scala:2249)\n",
      "\tat org.apache.spark.SparkContext.runJob(SparkContext.scala:2268)\n",
      "\tat org.apache.spark.SparkContext.runJob(SparkContext.scala:2293)\n",
      "\tat org.apache.spark.rdd.RDD.$anonfun$collect$1(RDD.scala:1021)\n",
      "\tat org.apache.spark.rdd.RDDOperationScope$.withScope(RDDOperationScope.scala:151)\n",
      "\tat org.apache.spark.rdd.RDDOperationScope$.withScope(RDDOperationScope.scala:112)\n",
      "\tat org.apache.spark.rdd.RDD.withScope(RDD.scala:406)\n",
      "\tat org.apache.spark.rdd.RDD.collect(RDD.scala:1020)\n",
      "\tat org.apache.spark.rdd.PairRDDFunctions.$anonfun$collectAsMap$1(PairRDDFunctions.scala:738)\n",
      "\tat org.apache.spark.rdd.RDDOperationScope$.withScope(RDDOperationScope.scala:151)\n",
      "\tat org.apache.spark.rdd.RDDOperationScope$.withScope(RDDOperationScope.scala:112)\n",
      "\tat org.apache.spark.rdd.RDD.withScope(RDD.scala:406)\n",
      "\tat org.apache.spark.rdd.PairRDDFunctions.collectAsMap(PairRDDFunctions.scala:737)\n",
      "\tat org.apache.spark.ml.tree.impl.RandomForest$.findBestSplits(RandomForest.scala:663)\n",
      "\tat org.apache.spark.ml.tree.impl.RandomForest$.runBagged(RandomForest.scala:208)\n",
      "\tat org.apache.spark.ml.tree.impl.RandomForest$.run(RandomForest.scala:302)\n",
      "\tat org.apache.spark.ml.classification.RandomForestClassifier.$anonfun$train$1(RandomForestClassifier.scala:161)\n",
      "\tat org.apache.spark.ml.util.Instrumentation$.$anonfun$instrumented$1(Instrumentation.scala:191)\n",
      "\tat scala.util.Try$.apply(Try.scala:213)\n",
      "\tat org.apache.spark.ml.util.Instrumentation$.instrumented(Instrumentation.scala:191)\n",
      "\tat org.apache.spark.ml.classification.RandomForestClassifier.train(RandomForestClassifier.scala:138)\n",
      "\tat org.apache.spark.ml.classification.RandomForestClassifier.train(RandomForestClassifier.scala:46)\n",
      "\tat org.apache.spark.ml.Predictor.fit(Predictor.scala:151)\n",
      "\tat java.base/jdk.internal.reflect.NativeMethodAccessorImpl.invoke0(Native Method)\n",
      "\tat java.base/jdk.internal.reflect.NativeMethodAccessorImpl.invoke(NativeMethodAccessorImpl.java:62)\n",
      "\tat java.base/jdk.internal.reflect.DelegatingMethodAccessorImpl.invoke(DelegatingMethodAccessorImpl.java:43)\n",
      "\tat java.base/java.lang.reflect.Method.invoke(Method.java:566)\n",
      "\tat py4j.reflection.MethodInvoker.invoke(MethodInvoker.java:244)\n",
      "\tat py4j.reflection.ReflectionEngine.invoke(ReflectionEngine.java:357)\n",
      "\tat py4j.Gateway.invoke(Gateway.java:282)\n",
      "\tat py4j.commands.AbstractCommand.invokeMethod(AbstractCommand.java:132)\n",
      "\tat py4j.commands.CallCommand.execute(CallCommand.java:79)\n",
      "\tat py4j.ClientServerConnection.waitForCommands(ClientServerConnection.java:182)\n",
      "\tat py4j.ClientServerConnection.run(ClientServerConnection.java:106)\n",
      "\tat java.base/java.lang.Thread.run(Thread.java:829)\n",
      "Caused by: java.lang.OutOfMemoryError: Java heap space: failed reallocation of scalar replaced objects\n",
      "\n",
      "22/12/13 08:45:03 WARN BlockManager: Putting block rdd_630_3 failed due to exception org.apache.spark.TaskKilledException.\n",
      "22/12/13 08:45:03 WARN BlockManager: Block rdd_630_3 could not be removed as it was not found on disk or in memory\n"
     ]
    },
    {
     "name": "stderr",
     "output_type": "stream",
     "text": [
      "Exception in thread \"refresh progress\" java.lang.OutOfMemoryError: Java heap space\n",
      "\tat org.apache.spark.status.LiveStage.toApi(LiveEntity.scala:521)\n",
      "\tat org.apache.spark.status.AppStatusListener.$anonfun$activeStages$3(AppStatusListener.scala:1040)\n",
      "\tat org.apache.spark.status.AppStatusListener$$Lambda$685/0x00000008405b8040.apply(Unknown Source)\n",
      "\tat scala.collection.TraversableLike.$anonfun$map$1(TraversableLike.scala:286)\n",
      "\tat scala.collection.TraversableLike$$Lambda$129/0x0000000840221040.apply(Unknown Source)\n",
      "\tat scala.collection.immutable.List.foreach(List.scala:431)\n",
      "\tat scala.collection.TraversableLike.map(TraversableLike.scala:286)\n",
      "\tat scala.collection.TraversableLike.map$(TraversableLike.scala:279)\n",
      "\tat scala.collection.immutable.List.map(List.scala:305)\n",
      "\tat org.apache.spark.status.AppStatusListener.activeStages(AppStatusListener.scala:1040)\n",
      "\tat org.apache.spark.status.AppStatusStore.$anonfun$activeStages$1(AppStatusStore.scala:164)\n",
      "\tat org.apache.spark.status.AppStatusStore$$Lambda$681/0x00000008405b6040.apply(Unknown Source)\n",
      "\tat scala.Option.map(Option.scala:230)\n",
      "\tat org.apache.spark.status.AppStatusStore.activeStages(AppStatusStore.scala:164)\n",
      "\tat org.apache.spark.ui.ConsoleProgressBar.org$apache$spark$ui$ConsoleProgressBar$$refresh(ConsoleProgressBar.scala:64)\n",
      "\tat org.apache.spark.ui.ConsoleProgressBar$$anon$1.run(ConsoleProgressBar.scala:52)\n",
      "\tat java.base/java.util.TimerThread.mainLoop(Timer.java:556)\n",
      "\tat java.base/java.util.TimerThread.run(Timer.java:506)\n"
     ]
    }
   ],
   "source": [
    "# Créer un objet RandomForestClassifier\n",
    "rfc = RandomForestClassifier(labelCol=\"Class\", featuresCol=\"features\")\n",
    "\n",
    "# Combiner les étapes de CountVectorizer et de randomForest en un seul pipeline\n",
    "pipeline = Pipeline(stages=[counter, rfc])\n",
    "\n",
    "try:\n",
    "    model = trainModel(pipeline, train_data)\n",
    "    accuracy_rfc_token, f1_rfc_token, predictions = results(model, test_data)\n",
    "    printResults(accuracy_rfc_token, f1_rfc_token, predictions)\n",
    "except:\n",
    "    accuracy_rfc_token, f1_rfc_token = 0, 0"
   ]
  },
  {
   "cell_type": "markdown",
   "metadata": {},
   "source": [
    "## Comparaison graphiques des différentes techniques"
   ]
  },
  {
   "cell_type": "code",
   "execution_count": 16,
   "metadata": {},
   "outputs": [
    {
     "name": "stdout",
     "output_type": "stream",
     "text": [
      "22/12/13 08:45:03 WARN BlockManager: Putting block rdd_630_5 failed due to exception org.apache.spark.TaskKilledException.\n",
      "===== Comparaisons graphiques avec Tokenizer =====\n",
      "22/12/13 08:45:03 ERROR Utils: Uncaught exception in thread Executor task launch worker for task 5.0 in stage 173.0 (TID 1097)\n",
      "java.lang.NullPointerException\n",
      "\tat org.apache.spark.scheduler.Task.$anonfun$run$3(Task.scala:157)\n",
      "\tat org.apache.spark.util.Utils$.tryLogNonFatalError(Utils.scala:1484)\n",
      "\tat org.apache.spark.scheduler.Task.run(Task.scala:155)\n",
      "\tat org.apache.spark.executor.Executor$TaskRunner.$anonfun$run$3(Executor.scala:548)\n",
      "\tat org.apache.spark.util.Utils$.tryWithSafeFinally(Utils.scala:1504)\n",
      "\tat org.apache.spark.executor.Executor$TaskRunner.run(Executor.scala:551)\n",
      "\tat java.base/java.util.concurrent.ThreadPoolExecutor.runWorker(ThreadPoolExecutor.java:1128)\n",
      "\tat java.base/java.util.concurrent.ThreadPoolExecutor$Worker.run(ThreadPoolExecutor.java:628)\n",
      "\tat java.base/java.lang.Thread.run(Thread.java:829)\n",
      "22/12/13 08:45:03 WARN BlockManager: Putting block rdd_630_7 failed due to exception org.apache.spark.TaskKilledException.\n",
      "22/12/13 08:45:03 ERROR Utils: Uncaught exception in thread Executor task launch worker for task 7.0 in stage 173.0 (TID 1099)\n",
      "java.lang.NullPointerException\n",
      "\tat org.apache.spark.scheduler.Task.$anonfun$run$3(Task.scala:157)\n",
      "\tat org.apache.spark.util.Utils$.tryLogNonFatalError(Utils.scala:1484)\n",
      "\tat org.apache.spark.scheduler.Task.run(Task.scala:155)\n",
      "\tat org.apache.spark.executor.Executor$TaskRunner.$anonfun$run$3(Executor.scala:548)\n",
      "\tat org.apache.spark.util.Utils$.tryWithSafeFinally(Utils.scala:1504)\n",
      "\tat org.apache.spark.executor.Executor$TaskRunner.run(Executor.scala:551)\n",
      "\tat java.base/java.util.concurrent.ThreadPoolExecutor.runWorker(ThreadPoolExecutor.java:1128)\n",
      "\tat java.base/java.util.concurrent.ThreadPoolExecutor$Worker.run(ThreadPoolExecutor.java:628)\n",
      "\tat java.base/java.lang.Thread.run(Thread.java:829)\n",
      "22/12/13 08:45:04 WARN BlockManager: Putting block rdd_630_1 failed due to exception org.apache.spark.TaskKilledException.\n",
      "22/12/13 08:45:04 ERROR Utils: Uncaught exception in thread Executor task launch worker for task 1.0 in stage 173.0 (TID 1093)\n",
      "java.lang.NullPointerException\n",
      "\tat org.apache.spark.scheduler.Task.$anonfun$run$3(Task.scala:157)\n",
      "\tat org.apache.spark.util.Utils$.tryLogNonFatalError(Utils.scala:1484)\n",
      "\tat org.apache.spark.scheduler.Task.run(Task.scala:155)\n",
      "\tat org.apache.spark.executor.Executor$TaskRunner.$anonfun$run$3(Executor.scala:548)\n",
      "\tat org.apache.spark.util.Utils$.tryWithSafeFinally(Utils.scala:1504)\n",
      "\tat org.apache.spark.executor.Executor$TaskRunner.run(Executor.scala:551)\n",
      "\tat java.base/java.util.concurrent.ThreadPoolExecutor.runWorker(ThreadPoolExecutor.java:1128)\n",
      "\tat java.base/java.util.concurrent.ThreadPoolExecutor$Worker.run(ThreadPoolExecutor.java:628)\n",
      "\tat java.base/java.lang.Thread.run(Thread.java:829)\n",
      "22/12/13 08:45:04 WARN BlockManager: Putting block rdd_630_2 failed due to exception org.apache.spark.TaskKilledException.\n",
      "22/12/13 08:45:04 ERROR Utils: Uncaught exception in thread Executor task launch worker for task 2.0 in stage 173.0 (TID 1094)\n",
      "java.lang.NullPointerException\n",
      "\tat org.apache.spark.scheduler.Task.$anonfun$run$3(Task.scala:157)\n",
      "\tat org.apache.spark.util.Utils$.tryLogNonFatalError(Utils.scala:1484)\n",
      "\tat org.apache.spark.scheduler.Task.run(Task.scala:155)\n",
      "\tat org.apache.spark.executor.Executor$TaskRunner.$anonfun$run$3(Executor.scala:548)\n",
      "\tat org.apache.spark.util.Utils$.tryWithSafeFinally(Utils.scala:1504)\n",
      "\tat org.apache.spark.executor.Executor$TaskRunner.run(Executor.scala:551)\n",
      "\tat java.base/java.util.concurrent.ThreadPoolExecutor.runWorker(ThreadPoolExecutor.java:1128)\n",
      "\tat java.base/java.util.concurrent.ThreadPoolExecutor$Worker.run(ThreadPoolExecutor.java:628)\n",
      "\tat java.base/java.lang.Thread.run(Thread.java:829)\n",
      "22/12/13 08:45:04 WARN BlockManager: Putting block rdd_630_8 failed due to exception org.apache.spark.TaskKilledException.\n",
      "22/12/13 08:45:04 ERROR TaskContextImpl: Error in TaskCompletionListener\n",
      "org.apache.spark.SparkException: Block broadcast_263 does not exist\n",
      "\tat org.apache.spark.errors.SparkCoreErrors$.blockDoesNotExistError(SparkCoreErrors.scala:234)\n",
      "\tat org.apache.spark.storage.BlockInfoManager.blockInfo(BlockInfoManager.scala:237)\n",
      "\tat org.apache.spark.storage.BlockInfoManager.unlock(BlockInfoManager.scala:358)\n",
      "\tat org.apache.spark.storage.BlockManager.releaseLock(BlockManager.scala:1291)\n",
      "\tat org.apache.spark.broadcast.TorrentBroadcast.$anonfun$releaseBlockManagerLock$1(TorrentBroadcast.scala:289)\n",
      "\tat org.apache.spark.broadcast.TorrentBroadcast.$anonfun$releaseBlockManagerLock$1$adapted(TorrentBroadcast.scala:289)\n",
      "\tat org.apache.spark.TaskContext$$anon$1.onTaskCompletion(TaskContext.scala:131)\n",
      "\tat org.apache.spark.TaskContextImpl.$anonfun$invokeTaskCompletionListeners$1(TaskContextImpl.scala:143)\n",
      "\tat org.apache.spark.TaskContextImpl.$anonfun$invokeTaskCompletionListeners$1$adapted(TaskContextImpl.scala:143)\n",
      "\tat org.apache.spark.TaskContextImpl.invokeListeners(TaskContextImpl.scala:198)\n",
      "\tat org.apache.spark.TaskContextImpl.invokeTaskCompletionListeners(TaskContextImpl.scala:143)\n",
      "\tat org.apache.spark.TaskContextImpl.markTaskCompleted(TaskContextImpl.scala:136)\n",
      "\tat org.apache.spark.scheduler.Task.run(Task.scala:146)\n",
      "\tat org.apache.spark.executor.Executor$TaskRunner.$anonfun$run$3(Executor.scala:548)\n",
      "\tat org.apache.spark.util.Utils$.tryWithSafeFinally(Utils.scala:1504)\n",
      "\tat org.apache.spark.executor.Executor$TaskRunner.run(Executor.scala:551)\n",
      "\tat java.base/java.util.concurrent.ThreadPoolExecutor.runWorker(ThreadPoolExecutor.java:1128)\n",
      "\tat java.base/java.util.concurrent.ThreadPoolExecutor$Worker.run(ThreadPoolExecutor.java:628)\n",
      "\tat java.base/java.lang.Thread.run(Thread.java:829)\n",
      "22/12/13 08:45:04 ERROR Utils: Uncaught exception in thread Executor task launch worker for task 8.0 in stage 173.0 (TID 1100)\n",
      "java.lang.NullPointerException\n",
      "\tat org.apache.spark.scheduler.Task.$anonfun$run$3(Task.scala:157)\n",
      "\tat org.apache.spark.util.Utils$.tryLogNonFatalError(Utils.scala:1484)\n",
      "\tat org.apache.spark.scheduler.Task.run(Task.scala:155)\n",
      "\tat org.apache.spark.executor.Executor$TaskRunner.$anonfun$run$3(Executor.scala:548)\n",
      "\tat org.apache.spark.util.Utils$.tryWithSafeFinally(Utils.scala:1504)\n",
      "\tat org.apache.spark.executor.Executor$TaskRunner.run(Executor.scala:551)\n",
      "\tat java.base/java.util.concurrent.ThreadPoolExecutor.runWorker(ThreadPoolExecutor.java:1128)\n",
      "\tat java.base/java.util.concurrent.ThreadPoolExecutor$Worker.run(ThreadPoolExecutor.java:628)\n",
      "\tat java.base/java.lang.Thread.run(Thread.java:829)\n",
      "22/12/13 08:45:04 WARN BlockManager: Putting block rdd_630_6 failed due to exception org.apache.spark.TaskKilledException.\n",
      "22/12/13 08:45:04 ERROR Utils: Uncaught exception in thread Executor task launch worker for task 6.0 in stage 173.0 (TID 1098)\n",
      "java.lang.NullPointerException\n",
      "\tat org.apache.spark.scheduler.Task.$anonfun$run$3(Task.scala:157)\n",
      "\tat org.apache.spark.util.Utils$.tryLogNonFatalError(Utils.scala:1484)\n",
      "\tat org.apache.spark.scheduler.Task.run(Task.scala:155)\n",
      "\tat org.apache.spark.executor.Executor$TaskRunner.$anonfun$run$3(Executor.scala:548)\n",
      "\tat org.apache.spark.util.Utils$.tryWithSafeFinally(Utils.scala:1504)\n",
      "\tat org.apache.spark.executor.Executor$TaskRunner.run(Executor.scala:551)\n",
      "\tat java.base/java.util.concurrent.ThreadPoolExecutor.runWorker(ThreadPoolExecutor.java:1128)\n",
      "\tat java.base/java.util.concurrent.ThreadPoolExecutor$Worker.run(ThreadPoolExecutor.java:628)\n",
      "\tat java.base/java.lang.Thread.run(Thread.java:829)\n"
     ]
    },
    {
     "data": {
      "image/png": "[encoded data removed]",
      "text/plain": [
       "<Figure size 640x480 with 1 Axes>"
      ]
     },
     "metadata": {},
     "output_type": "display_data"
    },
    {
     "data": {
      "image/png": "[encoded data removed]",
      "text/plain": [
       "<Figure size 640x480 with 1 Axes>"
      ]
     },
     "metadata": {},
     "output_type": "display_data"
    }
   ],
   "source": [
    "print(\"===== Comparaisons graphiques avec Tokenizer =====\")\n",
    "\n",
    "labels = [\"LogisticRegression\", \"MNB\", \"RandomForestClassifier\"]\n",
    "\n",
    "# Accuracy\n",
    "scores = [accuracy_lr_token, accuracy_mnb_token, accuracy_rfc_token]\n",
    "scores = [score * 100 for score in scores]\n",
    "   \n",
    "data = {'labels': labels,\n",
    "        'scores': scores\n",
    "       }\n",
    "df = pd.DataFrame(data)\n",
    "\n",
    "colors = ['royalblue','teal','green']\n",
    "plt.bar(df['labels'], df['scores'], color=colors)\n",
    "plt.title(\"Comparaison de l'accuracy sur les différents modèles (avec Tokenizer)\", fontsize=14)\n",
    "plt.xlabel('Modèles', fontsize=14)\n",
    "plt.ylabel('Accuracy (en %)', fontsize=14)\n",
    "plt.ylim((75,100))\n",
    "plt.show()\n",
    "\n",
    "# F1 score\n",
    "scores = [f1_lr_token, f1_mnb_token, f1_rfc_token]\n",
    "scores = [score * 100 for score in scores]\n",
    "   \n",
    "data = {'labels': labels,\n",
    "        'scores': scores\n",
    "       }\n",
    "df = pd.DataFrame(data)\n",
    "\n",
    "colors = ['royalblue','teal','green']\n",
    "plt.bar(df['labels'], df['scores'], color=colors)\n",
    "plt.title(\"Comparaison du score F1 sur les différents modèles (avec Tokenizer)\", fontsize=14)\n",
    "plt.xlabel('Modèles', fontsize=14)\n",
    "plt.ylabel('Score F1 (en %)', fontsize=14)\n",
    "plt.ylim((75,100))\n",
    "plt.show()"
   ]
  },
  {
   "cell_type": "code",
   "execution_count": 17,
   "metadata": {},
   "outputs": [
    {
     "name": "stdout",
     "output_type": "stream",
     "text": [
      "===== Comparaisons graphiques sans tokenizer =====\n"
     ]
    },
    {
     "data": {
      "image/png": "[encoded data removed]",
      "text/plain": [
       "<Figure size 640x480 with 1 Axes>"
      ]
     },
     "metadata": {},
     "output_type": "display_data"
    },
    {
     "data": {
      "image/png": "[encoded data removed]",
      "text/plain": [
       "<Figure size 640x480 with 1 Axes>"
      ]
     },
     "metadata": {},
     "output_type": "display_data"
    },
    {
     "name": "stderr",
     "output_type": "stream",
     "text": [
      "----------------------------------------\n",
      "Exception occurred during processing of request from ('127.0.0.1', 42004)\n",
      "Traceback (most recent call last):\n",
      "  File \"/usr/lib/python3.10/socketserver.py\", line 316, in _handle_request_noblock\n",
      "    self.process_request(request, client_address)\n",
      "  File \"/usr/lib/python3.10/socketserver.py\", line 347, in process_request\n",
      "    self.finish_request(request, client_address)\n",
      "  File \"/usr/lib/python3.10/socketserver.py\", line 360, in finish_request\n",
      "    self.RequestHandlerClass(request, client_address, self)\n",
      "  File \"/usr/lib/python3.10/socketserver.py\", line 747, in __init__\n",
      "    self.handle()\n",
      "  File \"/home/quentin/.local/lib/python3.10/site-packages/pyspark/accumulators.py\", line 281, in handle\n",
      "    poll(accum_updates)\n",
      "  File \"/home/quentin/.local/lib/python3.10/site-packages/pyspark/accumulators.py\", line 253, in poll\n",
      "    if func():\n",
      "  File \"/home/quentin/.local/lib/python3.10/site-packages/pyspark/accumulators.py\", line 257, in accum_updates\n",
      "    num_updates = read_int(self.rfile)\n",
      "  File \"/home/quentin/.local/lib/python3.10/site-packages/pyspark/serializers.py\", line 595, in read_int\n",
      "    raise EOFError\n",
      "EOFError\n",
      "----------------------------------------\n",
      "ERROR:root:Exception while sending command.\n",
      "Traceback (most recent call last):\n",
      "  File \"/home/quentin/.local/lib/python3.10/site-packages/py4j/clientserver.py\", line 511, in send_command\n",
      "    answer = smart_decode(self.stream.readline()[:-1])\n",
      "  File \"/usr/lib/python3.10/socket.py\", line 705, in readinto\n",
      "    return self._sock.recv_into(b)\n",
      "ConnectionResetError: [Errno 104] Connection reset by peer\n",
      "\n",
      "During handling of the above exception, another exception occurred:\n",
      "\n",
      "Traceback (most recent call last):\n",
      "  File \"/home/quentin/.local/lib/python3.10/site-packages/py4j/java_gateway.py\", line 1038, in send_command\n",
      "    response = connection.send_command(command)\n",
      "  File \"/home/quentin/.local/lib/python3.10/site-packages/py4j/clientserver.py\", line 539, in send_command\n",
      "    raise Py4JNetworkError(\n",
      "py4j.protocol.Py4JNetworkError: Error while sending or receiving\n"
     ]
    }
   ],
   "source": [
    "print(\"===== Comparaisons graphiques sans tokenizer =====\")\n",
    "\n",
    "labels = [\"LogisticRegression\", \"MNB\", \"RandomForestClassifier\"]\n",
    "\n",
    "# Accuracy\n",
    "scores = [accuracy_lr, accuracy_mnb, accuracy_rfc]\n",
    "scores = [score * 100 for score in scores]\n",
    "   \n",
    "data = {'labels': labels,\n",
    "        'scores': scores\n",
    "       }\n",
    "df = pd.DataFrame(data)\n",
    "\n",
    "colors = ['royalblue','teal','green']\n",
    "plt.bar(df['labels'], df['scores'], color=colors)\n",
    "plt.title(\"Comparaison de l'accuracy sur les différents modèles (sans tokenizer)\", fontsize=14)\n",
    "plt.xlabel('Modèles', fontsize=14)\n",
    "plt.ylabel('Accuracy (en %)', fontsize=14)\n",
    "plt.ylim((75,100))\n",
    "plt.show()\n",
    "\n",
    "# F1_score\n",
    "scores = [f1_lr, f1_mnb, f1_rfc]\n",
    "scores = [score * 100 for score in scores]\n",
    "data = {'labels': labels,\n",
    "        'scores': scores\n",
    "       }\n",
    "df = pd.DataFrame(data)\n",
    "\n",
    "plt.bar(df['labels'], df['scores'], color=colors)\n",
    "plt.title(\"Comparaison du score F1 sur les différents modèles (sans tokenizer)\", fontsize=14)\n",
    "plt.xlabel('Modèles', fontsize=14)\n",
    "plt.ylabel('Score F1 (en %)', fontsize=14)\n",
    "plt.ylim((75,100))\n",
    "plt.show()"
   ]
  }
 ],
 "metadata": {
  "kernelspec": {
   "display_name": "Python 3.10.6 64-bit",
   "language": "python",
   "name": "python3"
  },
  "language_info": {
   "codemirror_mode": {
    "name": "ipython",
    "version": 3
   },
   "file_extension": ".py",
   "mimetype": "text/x-python",
   "name": "python",
   "nbconvert_exporter": "python",
   "pygments_lexer": "ipython3",
   "version": "3.10.6"
  },
  "orig_nbformat": 4,
  "vscode": {
   "interpreter": {
    "hash": "916dbcbb3f70747c44a77c7bcd40155683ae19c65e1c03b4aa3499c5328201f1"
   }
  }
 },
 "nbformat": 4,
 "nbformat_minor": 2
}
